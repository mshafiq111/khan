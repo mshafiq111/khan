{
 "cells": [
  {
   "cell_type": "markdown",
   "id": "0f3fa991",
   "metadata": {},
   "source": [
    "# TASK NO 1"
   ]
  },
  {
   "cell_type": "markdown",
   "id": "442f181f",
   "metadata": {},
   "source": [
    "## Hangman Game\n",
    "Design a text-based Hangman game. The program selects a random word, and the player guesses one letter at a time to uncover the word. You can set a limit on the number of incorrect guesses allowed"
   ]
  },
  {
   "cell_type": "code",
   "execution_count": null,
   "id": "1981e671",
   "metadata": {},
   "outputs": [
    {
     "name": "stdout",
     "output_type": "stream",
     "text": [
      "Welcome to Hangman!\n",
      "\n",
      "Word to guess: ______\n",
      "Guess a letter: h\n",
      "Incorrect guess! You have 5 guesses left.\n",
      "\n",
      "Word to guess: ______\n",
      "Guess a letter: k\n",
      "Incorrect guess! You have 4 guesses left.\n",
      "\n",
      "Word to guess: ______\n",
      "Guess a letter: l\n",
      "Incorrect guess! You have 3 guesses left.\n",
      "\n",
      "Word to guess: ______\n"
     ]
    }
   ],
   "source": [
    "import random\n",
    "\n",
    "def get_random_word():\n",
    "    words = ['python', 'hangman', 'programming', 'openai', 'artificial']\n",
    "    return random.choice(words)\n",
    "\n",
    "def display_word(word, guessed_letters):\n",
    "    displayed_word = ''.join([letter if letter in guessed_letters else '_' for letter in word])\n",
    "    return displayed_word\n",
    "\n",
    "def hangman():\n",
    "    word_to_guess = get_random_word()\n",
    "    guessed_letters = set()\n",
    "    incorrect_guesses = 0\n",
    "    max_incorrect_guesses = 6\n",
    "\n",
    "    print(\"Welcome to Hangman!\")\n",
    "\n",
    "    while incorrect_guesses < max_incorrect_guesses:\n",
    "        print(f\"\\nWord to guess: {display_word(word_to_guess, guessed_letters)}\")\n",
    "        guess = input(\"Guess a letter: \").lower()\n",
    "\n",
    "        if len(guess) != 1 or not guess.isalpha():\n",
    "            print(\"Invalid input. Please guess a single letter.\")\n",
    "            continue\n",
    "\n",
    "        if guess in guessed_letters:\n",
    "            print(\"You already guessed that letter.\")\n",
    "            continue\n",
    "\n",
    "        guessed_letters.add(guess)\n",
    "\n",
    "        if guess in word_to_guess:\n",
    "            print(\"Good guess!\")\n",
    "            if all(letter in guessed_letters for letter in word_to_guess):\n",
    "                print(f\"Congratulations! You guessed the word: {word_to_guess}\")\n",
    "                break\n",
    "        else:\n",
    "            incorrect_guesses += 1\n",
    "            print(f\"Incorrect guess! You have {max_incorrect_guesses - incorrect_guesses} guesses left.\")\n",
    "\n",
    "    if incorrect_guesses == max_incorrect_guesses:\n",
    "        print(f\"Sorry, you've run out of guesses. The word was: {word_to_guess}\")\n",
    "\n",
    "hangman()\n"
   ]
  },
  {
   "cell_type": "code",
   "execution_count": null,
   "id": "7a4ac56a",
   "metadata": {},
   "outputs": [],
   "source": []
  },
  {
   "cell_type": "code",
   "execution_count": null,
   "id": "a400c850",
   "metadata": {},
   "outputs": [],
   "source": []
  }
 ],
 "metadata": {
  "kernelspec": {
   "display_name": "Python 3 (ipykernel)",
   "language": "python",
   "name": "python3"
  },
  "language_info": {
   "codemirror_mode": {
    "name": "ipython",
    "version": 3
   },
   "file_extension": ".py",
   "mimetype": "text/x-python",
   "name": "python",
   "nbconvert_exporter": "python",
   "pygments_lexer": "ipython3",
   "version": "3.9.12"
  }
 },
 "nbformat": 4,
 "nbformat_minor": 5
}
