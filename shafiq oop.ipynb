{
 "cells": [
  {
   "cell_type": "code",
   "execution_count": 5,
   "id": "7c4d25f4",
   "metadata": {},
   "outputs": [
    {
     "name": "stdout",
     "output_type": "stream",
     "text": [
      "{'name': 'raj', 'age': 21}\n",
      "{'name': 'khan', 'age': 20}\n"
     ]
    }
   ],
   "source": [
    "class employee:\n",
    "    \n",
    "    def __init__(self,name,age):\n",
    "        \n",
    "        self.name=name # attributes\n",
    "        self.age=age\n",
    "    def display(self):  # method\n",
    "        print(self.name)\n",
    "e1=employee('raj',21)\n",
    "e2=employee('khan',20)\n",
    "print(e1.__dict__)\n",
    "print(e2.__dict__)\n",
    "        "
   ]
  },
  {
   "cell_type": "code",
   "execution_count": null,
   "id": "d342f3d3",
   "metadata": {},
   "outputs": [],
   "source": []
  },
  {
   "cell_type": "code",
   "execution_count": 7,
   "id": "d3bb5163",
   "metadata": {},
   "outputs": [
    {
     "name": "stdout",
     "output_type": "stream",
     "text": [
      "{'name': 'M shafiq', 'age': 20}\n",
      "{'name': 'M shafiq', 'age': 20}\n"
     ]
    }
   ],
   "source": [
    "#  constructor types of constructor\n",
    "# special method used for initializing objects with attributes\n",
    "\n",
    "class employee:\n",
    "    \n",
    "    def __init__(self):\n",
    "        \n",
    "        self.name='M shafiq'\n",
    "        self.age=20\n",
    "        \n",
    "e1=employee()\n",
    "e2=employee()\n",
    "print(e1.__dict__)\n",
    "print(e2.__dict__)"
   ]
  },
  {
   "cell_type": "code",
   "execution_count": 9,
   "id": "a2e67b70",
   "metadata": {},
   "outputs": [
    {
     "name": "stdout",
     "output_type": "stream",
     "text": [
      "{'salary': 220000, 'age': 20}\n"
     ]
    }
   ],
   "source": [
    "# constructor three types\n",
    "\n",
    "# frst type parameterized constructor\n",
    "class employee:\n",
    "    \n",
    "    def __init__(self,salary,age):\n",
    "        \n",
    "        self.salary=salary\n",
    "        self.age=age\n",
    "        \n",
    "e1=employee(220000,20)\n",
    "e2=employee(25000,32)\n",
    "print(e1.__dict__)"
   ]
  },
  {
   "cell_type": "code",
   "execution_count": 11,
   "id": "deb1a8ea",
   "metadata": {},
   "outputs": [
    {
     "name": "stdout",
     "output_type": "stream",
     "text": [
      "{'salary': 220000, 'age': 20}\n"
     ]
    }
   ],
   "source": [
    "# second non_parameterized constructor\n",
    "class employee:\n",
    "    \n",
    "    def __init__(self,salary,age):\n",
    "        \n",
    "        self.salary=salary\n",
    "        self.age=age\n",
    "        \n",
    "e1=employee(220000,20)\n",
    "e2=employee(25000,32)\n",
    "print(e1.__dict__)"
   ]
  },
  {
   "cell_type": "code",
   "execution_count": 14,
   "id": "628302c7",
   "metadata": {},
   "outputs": [
    {
     "ename": "TypeError",
     "evalue": "employee() takes no arguments",
     "output_type": "error",
     "traceback": [
      "\u001b[1;31m---------------------------------------------------------------------------\u001b[0m",
      "\u001b[1;31mTypeError\u001b[0m                                 Traceback (most recent call last)",
      "Input \u001b[1;32mIn [14]\u001b[0m, in \u001b[0;36m<cell line: 7>\u001b[1;34m()\u001b[0m\n\u001b[0;32m      3\u001b[0m \u001b[38;5;28;01mclass\u001b[39;00m \u001b[38;5;21;01memployee\u001b[39;00m:\n\u001b[0;32m      4\u001b[0m     \u001b[38;5;28;01mpass\u001b[39;00m\n\u001b[1;32m----> 7\u001b[0m e1\u001b[38;5;241m=\u001b[39m\u001b[43memployee\u001b[49m\u001b[43m(\u001b[49m\u001b[38;5;241;43m220000\u001b[39;49m\u001b[43m,\u001b[49m\u001b[38;5;241;43m20\u001b[39;49m\u001b[43m)\u001b[49m\n\u001b[0;32m      8\u001b[0m e2\u001b[38;5;241m=\u001b[39memployee(\u001b[38;5;241m25000\u001b[39m,\u001b[38;5;241m32\u001b[39m)\n\u001b[0;32m      9\u001b[0m \u001b[38;5;28mprint\u001b[39m(e1\u001b[38;5;241m.\u001b[39m\u001b[38;5;18m__dict__\u001b[39m)\n",
      "\u001b[1;31mTypeError\u001b[0m: employee() takes no arguments"
     ]
    }
   ],
   "source": [
    "# thrd deparameter constructor\n",
    "\n",
    "class employee:\n",
    "    pass\n",
    "     \n",
    "        \n",
    "e1=employee(220000,20)\n",
    "e2=employee(25000,32)\n",
    "print(e1.__dict__)"
   ]
  },
  {
   "cell_type": "code",
   "execution_count": 17,
   "id": "8c1227b7",
   "metadata": {},
   "outputs": [
    {
     "name": "stdout",
     "output_type": "stream",
     "text": [
      "{'r': 1, 'x': 2, 'y': 3}\n",
      "{'r': 4, 'x': 5, 'y': 6}\n",
      "{'r': 7, 'x': 8, 'y': 9}\n"
     ]
    }
   ],
   "source": [
    "class circle:\n",
    "    \n",
    "    def __init__(self,r,x,y):\n",
    "        \n",
    "        self.r=r\n",
    "        self.x=x\n",
    "        self.y=y\n",
    "        \n",
    "    def move(self,x,y):\n",
    "        \n",
    "        self.x=x\n",
    "        self.y=y\n",
    "        \n",
    "c1=circle(1,2,3)\n",
    "c2=circle(4,5,6)\n",
    "c3=circle(7,8,9)\n",
    "print(c1.__dict__)\n",
    "print(c2.__dict__)\n",
    "print(c3.__dict__)\n",
    "    \n",
    "    \n",
    "    \n",
    "    \n",
    "    "
   ]
  },
  {
   "cell_type": "code",
   "execution_count": 24,
   "id": "15a2958a",
   "metadata": {},
   "outputs": [
    {
     "name": "stdout",
     "output_type": "stream",
     "text": [
      "21\n",
      "{'name': 'irfan', 'age': 20}\n",
      "{'name': 'irfan'}\n",
      "True\n"
     ]
    }
   ],
   "source": [
    "class employee:\n",
    "    \n",
    "    def __init__(self,name,age):\n",
    "        \n",
    "        self.name=name # attributes\n",
    "        self.age=age\n",
    "    def display(self):  # method     #built_in_class functions\n",
    "        print(self.name)\n",
    "e1=employee('raj',21)\n",
    "e2=employee('khan',20)\n",
    "print(getattr(e1,'age'))#21\n",
    "setattr(e2,'name','irfan')\n",
    "print(e2.__dict__)\n",
    "delattr(e2,'age')                #attributes\n",
    "print(e2.__dict__)\n",
    "print(hasattr(e1,'name'))"
   ]
  },
  {
   "cell_type": "code",
   "execution_count": 39,
   "id": "95950249",
   "metadata": {},
   "outputs": [
    {
     "name": "stdout",
     "output_type": "stream",
     "text": [
      "{'name': 'lala', 'age': 23}\n"
     ]
    },
    {
     "ename": "AttributeError",
     "evalue": "'employee' object has no attribute '__name__'",
     "output_type": "error",
     "traceback": [
      "\u001b[1;31m---------------------------------------------------------------------------\u001b[0m",
      "\u001b[1;31mAttributeError\u001b[0m                            Traceback (most recent call last)",
      "Input \u001b[1;32mIn [39]\u001b[0m, in \u001b[0;36m<cell line: 14>\u001b[1;34m()\u001b[0m\n\u001b[0;32m     11\u001b[0m e2\u001b[38;5;241m=\u001b[39memployee(\u001b[38;5;124m'\u001b[39m\u001b[38;5;124mbaba\u001b[39m\u001b[38;5;124m'\u001b[39m,\u001b[38;5;241m67\u001b[39m)\n\u001b[0;32m     13\u001b[0m \u001b[38;5;28mprint\u001b[39m(e1\u001b[38;5;241m.\u001b[39m\u001b[38;5;18m__dict__\u001b[39m) \u001b[38;5;66;03m#dictionary containing class's namespace\u001b[39;00m\n\u001b[1;32m---> 14\u001b[0m \u001b[38;5;28mprint\u001b[39m(\u001b[43me1\u001b[49m\u001b[38;5;241;43m.\u001b[39;49m\u001b[38;5;18;43m__name__\u001b[39;49m)\u001b[38;5;66;03m#class name\u001b[39;00m\n\u001b[0;32m     15\u001b[0m \u001b[38;5;28mprint\u001b[39m(e2\u001b[38;5;241m.\u001b[39m\u001b[38;5;18m__doc__\u001b[39m)\u001b[38;5;66;03m#class documentation string\u001b[39;00m\n\u001b[0;32m     16\u001b[0m \u001b[38;5;28mprint\u001b[39m(e2\u001b[38;5;241m.\u001b[39m\u001b[38;5;18m__bases__\u001b[39m)\u001b[38;5;66;03m#list of base classes\u001b[39;00m\n",
      "\u001b[1;31mAttributeError\u001b[0m: 'employee' object has no attribute '__name__'"
     ]
    }
   ],
   "source": [
    "class employee:\n",
    "    \n",
    "    def __init__(self,name,age):\n",
    "        \n",
    "        self.name=name # attributes\n",
    "        self.age=age\n",
    "    def display(self):\n",
    "        print(f\"name is:{self.name} and age is {self.age}\")\n",
    "\n",
    "e1=employee('lala',23)\n",
    "e2=employee('baba',67)\n",
    "\n",
    "print(e1.__dict__) #dictionary containing class's namespace\n",
    "print(e1.__name__)#class name\n",
    "print(e2.__doc__)#class documentation string\n",
    "print(e2.__bases__)#list of base classes\n",
    "print(e2.__module__)#module name in which class in defined"
   ]
  },
  {
   "cell_type": "code",
   "execution_count": 50,
   "id": "eb6d34ef",
   "metadata": {},
   "outputs": [
    {
     "name": "stdout",
     "output_type": "stream",
     "text": [
      "True\n"
     ]
    }
   ],
   "source": [
    "class demo:\n",
    "    pass\n",
    "d1=demo()\n",
    "class employee:\n",
    "    \n",
    "    def __init__(self,salary,age):\n",
    "        \n",
    "        self.salary=salary\n",
    "        self.age=age\n",
    "        \n",
    "e1=employee(220000,20)\n",
    "e2=employee(25000,32)\n",
    "print(isinstance(e1,employee))\n",
    "#if isinstance(obj,classname) # this class value pass\n",
    "   # pass"
   ]
  },
  {
   "cell_type": "code",
   "execution_count": null,
   "id": "17ab4b9f",
   "metadata": {},
   "outputs": [],
   "source": [
    "# instance methods \n",
    "# tow types of method\n",
    "# 1 setter method:_ set values of instance vraibles\n",
    "#2 getter method:_get values of instance vraibles\n",
    "class employee:\n",
    "\n",
    "    def setname(self,salary):#setter method\n",
    "        \n",
    "        self.salary=salary\n",
    "        \n",
    "    def getname(self):#getter method\n",
    "        print(\"the name is:\",self.name)\n",
    "        \n",
    "e1=employee()\n",
    "e2=employee()\n",
    "e1.setname(input(\"enter the name:\"))\n",
    "e2.setname(input(\"enter the name:\"))\n",
    "print(\"e1 object is:\",e1.__dict__)\n",
    "print(\"e2 object is:\",e2.__dict__)\n",
    "e1.getname()\n",
    "e2.getname()\n"
   ]
  },
  {
   "cell_type": "code",
   "execution_count": null,
   "id": "84b5e103",
   "metadata": {},
   "outputs": [],
   "source": [
    "#three types of method\n",
    "#instance method\n",
    "#class method\n",
    "#static_method\n",
    "class bank:\n",
    "    \n",
    "    bank_name='boi'\n",
    "    rate_of_interest=12.25\n",
    "    @staticmethod\n",
    "    def simple_interest(prin,n):\n",
    "        \n",
    "        si=(prin_*n*r)/100\n",
    "        \n",
    "bank.simple       \n",
    "        \n"
   ]
  }
 ],
 "metadata": {
  "kernelspec": {
   "display_name": "Python 3 (ipykernel)",
   "language": "python",
   "name": "python3"
  },
  "language_info": {
   "codemirror_mode": {
    "name": "ipython",
    "version": 3
   },
   "file_extension": ".py",
   "mimetype": "text/x-python",
   "name": "python",
   "nbconvert_exporter": "python",
   "pygments_lexer": "ipython3",
   "version": "3.9.12"
  }
 },
 "nbformat": 4,
 "nbformat_minor": 5
}
