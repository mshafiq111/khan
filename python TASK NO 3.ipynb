{
 "cells": [
  {
   "cell_type": "markdown",
   "id": "e97941f6",
   "metadata": {},
   "source": [
    "# TASK NO 3"
   ]
  },
  {
   "cell_type": "markdown",
   "id": "f662cf16",
   "metadata": {},
   "source": [
    "### Basic Chatbot\n",
    "Create a text-based chatbot that can have\n",
    "conversations with users. You can use natural\n",
    "language processing libraries like NLTK or spaCy to\n",
    "make your chatbot more conversational."
   ]
  },
  {
   "cell_type": "code",
   "execution_count": null,
   "id": "b213fa96",
   "metadata": {},
   "outputs": [
    {
     "name": "stdout",
     "output_type": "stream",
     "text": [
      "Hello! I am a chatbot. How can I help you today?\n",
      "Enter 'quit' to end the conversation.\n",
      "You: i am \n",
      "Chatbot: Sorry, I did not understand that.\n",
      "You: how are you\n",
      "Chatbot: I am good, thank you.\n",
      "You: hi\n",
      "Chatbot: Hello!\n",
      "You: hello\n",
      "Chatbot: Hey there!\n",
      "You: where are you\n",
      "Chatbot: Sorry, I did not understand that.\n",
      "You: how are you\n",
      "Chatbot: Doing well, thanks!\n",
      "You: what you nmae\n",
      "Chatbot: Sorry, I did not understand that.\n"
     ]
    }
   ],
   "source": [
    "import nltk\n",
    "from nltk.chat.util import Chat, reflections\n",
    "\n",
    "# Define pairs of patterns and responses\n",
    "pairs = [\n",
    "    ['hi|hey|hello', ['Hello!', 'Hey there!', 'Hi!']],\n",
    "    ['how are you ?', ['I am good, thank you.', 'Doing well, thanks!', 'Great! How about you?']],\n",
    "    ['what is your name ?', ['I am a chatbot created by OpenAI.', 'You can call me ChatGPT.', 'I go by ChatGPT.']],\n",
    "    ['.*', ['Sorry, I did not understand that.', 'Could you please repeat that?']]\n",
    "]\n",
    "\n",
    "# Create a Chatbot\n",
    "chatbot = Chat(pairs, reflections)\n",
    "\n",
    "def chat():\n",
    "    print(\"Hello! I am a chatbot. How can I help you today?\")\n",
    "    print(\"Enter 'quit' to end the conversation.\")\n",
    "\n",
    "    while True:\n",
    "        user_input = input('You: ')\n",
    "        if user_input.lower() == 'quit':\n",
    "            break\n",
    "\n",
    "        response = chatbot.respond(user_input)\n",
    "        print('Chatbot:', response)\n",
    "\n",
    "if __name__ == \"__main__\":\n",
    "    chat()\n"
   ]
  },
  {
   "cell_type": "code",
   "execution_count": null,
   "id": "312fc1ee",
   "metadata": {},
   "outputs": [],
   "source": []
  }
 ],
 "metadata": {
  "kernelspec": {
   "display_name": "Python 3 (ipykernel)",
   "language": "python",
   "name": "python3"
  },
  "language_info": {
   "codemirror_mode": {
    "name": "ipython",
    "version": 3
   },
   "file_extension": ".py",
   "mimetype": "text/x-python",
   "name": "python",
   "nbconvert_exporter": "python",
   "pygments_lexer": "ipython3",
   "version": "3.9.12"
  }
 },
 "nbformat": 4,
 "nbformat_minor": 5
}
