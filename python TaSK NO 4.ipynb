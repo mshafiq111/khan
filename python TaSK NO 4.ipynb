{
 "cells": [
  {
   "cell_type": "markdown",
   "id": "db6fbeb9",
   "metadata": {},
   "source": [
    "# TASK NO 4"
   ]
  },
  {
   "cell_type": "markdown",
   "id": "41767712",
   "metadata": {},
   "source": [
    "\n",
    "### Task Automation with\n",
    "Python Scripts\n",
    "Identify a repetitive task in your workflow and create\n",
    "Python scripts to automate it. This could include tasks\n",
    "like file organization, data cleaning, or system\n",
    "maintenance."
   ]
  },
  {
   "cell_type": "code",
   "execution_count": 2,
   "id": "b05948dd",
   "metadata": {},
   "outputs": [
    {
     "name": "stdout",
     "output_type": "stream",
     "text": [
      "Files organized successfully!\n",
      "Directory cleaned successfully!\n"
     ]
    }
   ],
   "source": [
    "import os\n",
    "import shutil\n",
    "\n",
    "def organize_files(source_folder, target_folder):\n",
    "    # Create target directory if it doesn't exist\n",
    "    if not os.path.exists(target_folder):\n",
    "        os.makedirs(target_folder)\n",
    "\n",
    "    # Walk through the source folder\n",
    "    for root, _, files in os.walk(source_folder):\n",
    "        for file in files:\n",
    "            file_path = os.path.join(root, file)\n",
    "            if os.path.isfile(file_path):\n",
    "                file_extension = file.split('.')[-1].lower()\n",
    "                target_path = os.path.join(target_folder, file_extension)\n",
    "\n",
    "                # Create target directory if it doesn't exist\n",
    "                if not os.path.exists(target_path):\n",
    "                    os.makedirs(target_path)\n",
    "\n",
    "                # Move file to target directory\n",
    "                try:\n",
    "                    shutil.move(file_path, os.path.join(target_path, file))\n",
    "                    print(f\"Moved {file} to {target_path}\")\n",
    "                except Exception as e:\n",
    "                    print(f\"Failed to move {file}: {e}\")\n",
    "\n",
    "    print(\"Files organized successfully!\")\n",
    "\n",
    "def clean_directory(directory):\n",
    "    # Walk through the directory\n",
    "    for root, _, files in os.walk(directory):\n",
    "        for file in files:\n",
    "            file_path = os.path.join(root, file)\n",
    "            try:\n",
    "                # Example: Delete files smaller than 1KB\n",
    "                if os.path.getsize(file_path) < 1024:\n",
    "                    os.remove(file_path)\n",
    "                    print(f\"Deleted {file_path}\")\n",
    "            except Exception as e:\n",
    "                print(f\"Failed to delete {file_path}: {e}\")\n",
    "\n",
    "    print(\"Directory cleaned successfully!\")\n",
    "\n",
    "if __name__ == \"__main__\":\n",
    "    source_folder = \"path_to_your_source_folder\"\n",
    "    target_folder = \"path_to_your_target_folder\"\n",
    "    clean_directory_path = \"path_to_your_directory_to_clean\"\n",
    "\n",
    "    organize_files(source_folder, target_folder)\n",
    "    clean_directory(clean_directory_path)\n"
   ]
  },
  {
   "cell_type": "code",
   "execution_count": null,
   "id": "76606871",
   "metadata": {},
   "outputs": [],
   "source": []
  }
 ],
 "metadata": {
  "kernelspec": {
   "display_name": "Python 3 (ipykernel)",
   "language": "python",
   "name": "python3"
  },
  "language_info": {
   "codemirror_mode": {
    "name": "ipython",
    "version": 3
   },
   "file_extension": ".py",
   "mimetype": "text/x-python",
   "name": "python",
   "nbconvert_exporter": "python",
   "pygments_lexer": "ipython3",
   "version": "3.9.12"
  }
 },
 "nbformat": 4,
 "nbformat_minor": 5
}
